{
  "nbformat": 4,
  "nbformat_minor": 0,
  "metadata": {
    "colab": {
      "name": "text_summarization",
      "provenance": [],
      "authorship_tag": "ABX9TyP+tOBMVxChe1WXeUhHW2hQ",
      "include_colab_link": true
    },
    "kernelspec": {
      "name": "python3",
      "display_name": "Python 3"
    },
    "language_info": {
      "name": "python"
    }
  },
  "cells": [
    {
      "cell_type": "markdown",
      "metadata": {
        "id": "view-in-github",
        "colab_type": "text"
      },
      "source": [
        "<a href=\"https://colab.research.google.com/github/sangcamap/text_summarization/blob/main/text_summarization.ipynb\" target=\"_parent\"><img src=\"https://colab.research.google.com/assets/colab-badge.svg\" alt=\"Open In Colab\"/></a>"
      ]
    },
    {
      "cell_type": "markdown",
      "source": [
        "\n",
        "# Text"
      ],
      "metadata": {
        "id": "RXnRADAwEzCY"
      }
    },
    {
      "cell_type": "code",
      "execution_count": null,
      "metadata": {
        "id": "BIZqdm-jEvP4"
      },
      "outputs": [],
      "source": [
        "text = \"\"\"More than 1.6 million people from Ukraine and breakaway republics in the Donbas region have crossed into Russia since the start of the Kremlin’s invasion, Russian state news agency TASS reported Thursday, citing a law enforcement source.\"As of Wednesday morning, more than 1.6 million people, including almost 263,000 children, crossed the border,\" said the source.CNN cannot independently confirm the number of border crossings, but the numbers are similar to official Ukrainian estimates.Earlier Thursday Ukrainian President Volodymyr Zelensky accused Russia of pursuing a “consistent criminal policy of deporting [Ukrainian] people” into mostly remote areas of Russia, adding that more than 200,000 children had been taken to Russia so far.The aim is “to steal people” and “make deportees forget about Ukraine and not be able to return,\" said Zelensky. According to TASS, 33,000 people, including 11,000 children, are currently being kept in 559 temporary accommodation centers across Russia.The rest “have been placed with relatives and privately,\" it added.Four sources familiar with the latest Western intelligence assessments told CNN in late May that hundreds of thousands of Ukrainians have now been processed through a series of “filtration camps” in eastern Ukraine.They were then sent across the border to Russia as part of a systemized program of forced removal and resettlement, the sources said.Some context: In April a CNN investigation revealed that Russian forces and allied separatist soldiers were taking residents of the city of Mariupol to a so-called “filtration center” set up in Bezimenne, where they were registered before being sent on to Russia, many against their will.At the time, Mariupol's city council accused Russian forces of bringing Ukrainians to these centers as part of a broader effort to cover up potential war crimes by \"destroying\" potential witnesses.  Zelensky has also alleged that Ukrainians have been forced to move to Russia.\"Their documents and means of communication are confiscated,” he said on May 6. According to Michael Carpenter, US Ambassador to the Organization for Security and Cooperation in Europe, the practice \"would be in violation of international humanitarian law, and a war crime if people were forcibly being displaced from Ukraine to Russia.”\n",
        "\"\"\""
      ]
    },
    {
      "cell_type": "markdown",
      "source": [
        "# Import"
      ],
      "metadata": {
        "id": "xC6XbEcYFxGf"
      }
    },
    {
      "cell_type": "code",
      "source": [
        "import spacy\n",
        "from spacy.lang.en.stop_words import STOP_WORDS\n",
        "from string import punctuation"
      ],
      "metadata": {
        "id": "AdDl3as1FyQZ"
      },
      "execution_count": null,
      "outputs": []
    },
    {
      "cell_type": "code",
      "source": [
        "nlp = spacy.load('en_core_web_sm')"
      ],
      "metadata": {
        "id": "VEMjFpN5GLyz"
      },
      "execution_count": null,
      "outputs": []
    },
    {
      "cell_type": "code",
      "source": [
        "doc = nlp(text)"
      ],
      "metadata": {
        "id": "qRMR9A8nGafz"
      },
      "execution_count": null,
      "outputs": []
    },
    {
      "cell_type": "code",
      "source": [
        "punctuation"
      ],
      "metadata": {
        "colab": {
          "base_uri": "https://localhost:8080/",
          "height": 35
        },
        "id": "bqbzhXXHG903",
        "outputId": "caf53ddc-efd1-4aca-e234-0d11a4b9a41b"
      },
      "execution_count": null,
      "outputs": [
        {
          "output_type": "execute_result",
          "data": {
            "text/plain": [
              "'!\"#$%&\\'()*+,-./:;<=>?@[\\\\]^_`{|}~'"
            ],
            "application/vnd.google.colaboratory.intrinsic+json": {
              "type": "string"
            }
          },
          "metadata": {},
          "execution_count": 5
        }
      ]
    },
    {
      "cell_type": "code",
      "source": [
        "punctuation = punctuation + '\\n'\n",
        "punctuation = punctuation + '\\n\\n'\n",
        "punctuation = punctuation + '\\n\\n\\n'"
      ],
      "metadata": {
        "id": "ofyo_dNWHAlD"
      },
      "execution_count": null,
      "outputs": []
    },
    {
      "cell_type": "code",
      "source": [
        "tokens = [token.text  for token in doc if token.text not in punctuation]\n",
        "print(tokens)"
      ],
      "metadata": {
        "colab": {
          "base_uri": "https://localhost:8080/"
        },
        "id": "xCzTyWDiGaoq",
        "outputId": "511baa53-7de5-4ac2-e0a1-660673e091b7"
      },
      "execution_count": null,
      "outputs": [
        {
          "output_type": "stream",
          "name": "stdout",
          "text": [
            "['More', 'than', '1.6', 'million', 'people', 'from', 'Ukraine', 'and', 'breakaway', 'republics', 'in', 'the', 'Donbas', 'region', 'have', 'crossed', 'into', 'Russia', 'since', 'the', 'start', 'of', 'the', 'Kremlin', '’s', 'invasion', 'Russian', 'state', 'news', 'agency', 'TASS', 'reported', 'Thursday', 'citing', 'a', 'law', 'enforcement', 'source', '\"As', 'of', 'Wednesday', 'morning', 'more', 'than', '1.6', 'million', 'people', 'including', 'almost', '263,000', 'children', 'crossed', 'the', 'border', 'said', 'the', 'source', 'CNN', 'can', 'not', 'independently', 'confirm', 'the', 'number', 'of', 'border', 'crossings', 'but', 'the', 'numbers', 'are', 'similar', 'to', 'official', 'Ukrainian', 'estimates', 'Earlier', 'Thursday', 'Ukrainian', 'President', 'Volodymyr', 'Zelensky', 'accused', 'Russia', 'of', 'pursuing', 'a', '“', 'consistent', 'criminal', 'policy', 'of', 'deporting', 'Ukrainian', 'people', '”', 'into', 'mostly', 'remote', 'areas', 'of', 'Russia', 'adding', 'that', 'more', 'than', '200,000', 'children', 'had', 'been', 'taken', 'to', 'Russia', 'so', 'far', 'The', 'aim', 'is', '“', 'to', 'steal', 'people', '”', 'and', '“', 'make', 'deportees', 'forget', 'about', 'Ukraine', 'and', 'not', 'be', 'able', 'to', 'return', 'said', 'Zelensky', 'According', 'to', 'TASS', '33,000', 'people', 'including', '11,000', 'children', 'are', 'currently', 'being', 'kept', 'in', '559', 'temporary', 'accommodation', 'centers', 'across', 'Russia', 'The', 'rest', '“', 'have', 'been', 'placed', 'with', 'relatives', 'and', 'privately', 'it', 'added', 'Four', 'sources', 'familiar', 'with', 'the', 'latest', 'Western', 'intelligence', 'assessments', 'told', 'CNN', 'in', 'late', 'May', 'that', 'hundreds', 'of', 'thousands', 'of', 'Ukrainians', 'have', 'now', 'been', 'processed', 'through', 'a', 'series', 'of', '“', 'filtration', 'camps', '”', 'in', 'eastern', 'Ukraine', 'They', 'were', 'then', 'sent', 'across', 'the', 'border', 'to', 'Russia', 'as', 'part', 'of', 'a', 'systemized', 'program', 'of', 'forced', 'removal', 'and', 'resettlement', 'the', 'sources', 'said', 'Some', 'context', 'In', 'April', 'a', 'CNN', 'investigation', 'revealed', 'that', 'Russian', 'forces', 'and', 'allied', 'separatist', 'soldiers', 'were', 'taking', 'residents', 'of', 'the', 'city', 'of', 'Mariupol', 'to', 'a', 'so', 'called', '“', 'filtration', 'center', '”', 'set', 'up', 'in', 'Bezimenne', 'where', 'they', 'were', 'registered', 'before', 'being', 'sent', 'on', 'to', 'Russia', 'many', 'against', 'their', 'will', 'At', 'the', 'time', 'Mariupol', \"'s\", 'city', 'council', 'accused', 'Russian', 'forces', 'of', 'bringing', 'Ukrainians', 'to', 'these', 'centers', 'as', 'part', 'of', 'a', 'broader', 'effort', 'to', 'cover', 'up', 'potential', 'war', 'crimes', 'by', 'destroying', 'potential', 'witnesses', ' ', 'Zelensky', 'has', 'also', 'alleged', 'that', 'Ukrainians', 'have', 'been', 'forced', 'to', 'move', 'to', 'Russia', '\"Their', 'documents', 'and', 'means', 'of', 'communication', 'are', 'confiscated', '”', 'he', 'said', 'on', 'May', '6', 'According', 'to', 'Michael', 'Carpenter', 'US', 'Ambassador', 'to', 'the', 'Organization', 'for', 'Security', 'and', 'Cooperation', 'in', 'Europe', 'the', 'practice', 'would', 'be', 'in', 'violation', 'of', 'international', 'humanitarian', 'law', 'and', 'a', 'war', 'crime', 'if', 'people', 'were', 'forcibly', 'being', 'displaced', 'from', 'Ukraine', 'to', 'Russia', '”']\n"
          ]
        }
      ]
    },
    {
      "cell_type": "markdown",
      "source": [
        "# Text cleaning"
      ],
      "metadata": {
        "id": "59ew0-80HSMz"
      }
    },
    {
      "cell_type": "code",
      "source": [
        "word_fred = {}\n",
        "stop_words = list(STOP_WORDS)\n",
        "\n",
        "for word in doc:\n",
        "  if (word.text.lower() not in stop_words):\n",
        "    if (word.text.lower() not in punctuation):\n",
        "      if (word.text.lower() not in word_fred.keys()):\n",
        "        word_fred[word.text] = 1 \n",
        "      else:\n",
        "        word_fred[word.text] += 1"
      ],
      "metadata": {
        "id": "tRKljKi4HVXQ"
      },
      "execution_count": null,
      "outputs": []
    },
    {
      "cell_type": "code",
      "source": [
        "word_fred"
      ],
      "metadata": {
        "colab": {
          "base_uri": "https://localhost:8080/"
        },
        "id": "LEhM5sEbI16A",
        "outputId": "565a3dd0-0aa4-495d-fb21-b16f92834aa9"
      },
      "execution_count": null,
      "outputs": [
        {
          "output_type": "execute_result",
          "data": {
            "text/plain": [
              "{' ': 1,\n",
              " '\"As': 1,\n",
              " '\"Their': 1,\n",
              " '1.6': 2,\n",
              " '11,000': 1,\n",
              " '200,000': 1,\n",
              " '263,000': 1,\n",
              " '33,000': 1,\n",
              " '559': 1,\n",
              " '6': 1,\n",
              " 'According': 1,\n",
              " 'Ambassador': 1,\n",
              " 'April': 1,\n",
              " 'Bezimenne': 1,\n",
              " 'CNN': 1,\n",
              " 'Carpenter': 1,\n",
              " 'Cooperation': 1,\n",
              " 'Donbas': 1,\n",
              " 'Earlier': 1,\n",
              " 'Europe': 1,\n",
              " 'Kremlin': 1,\n",
              " 'Mariupol': 1,\n",
              " 'Michael': 1,\n",
              " 'Organization': 1,\n",
              " 'President': 1,\n",
              " 'Russia': 1,\n",
              " 'Russian': 1,\n",
              " 'Security': 1,\n",
              " 'TASS': 1,\n",
              " 'Thursday': 1,\n",
              " 'Ukraine': 1,\n",
              " 'Ukrainian': 1,\n",
              " 'Ukrainians': 1,\n",
              " 'Volodymyr': 1,\n",
              " 'Wednesday': 1,\n",
              " 'Western': 1,\n",
              " 'Zelensky': 1,\n",
              " 'able': 1,\n",
              " 'accommodation': 1,\n",
              " 'accused': 2,\n",
              " 'added': 1,\n",
              " 'adding': 1,\n",
              " 'agency': 1,\n",
              " 'aim': 1,\n",
              " 'alleged': 1,\n",
              " 'allied': 1,\n",
              " 'areas': 1,\n",
              " 'assessments': 1,\n",
              " 'border': 3,\n",
              " 'breakaway': 1,\n",
              " 'bringing': 1,\n",
              " 'broader': 1,\n",
              " 'called': 1,\n",
              " 'camps': 1,\n",
              " 'center': 1,\n",
              " 'centers': 2,\n",
              " 'children': 3,\n",
              " 'citing': 1,\n",
              " 'city': 2,\n",
              " 'communication': 1,\n",
              " 'confirm': 1,\n",
              " 'confiscated': 1,\n",
              " 'consistent': 1,\n",
              " 'context': 1,\n",
              " 'council': 1,\n",
              " 'cover': 1,\n",
              " 'crime': 1,\n",
              " 'crimes': 1,\n",
              " 'criminal': 1,\n",
              " 'crossed': 2,\n",
              " 'crossings': 1,\n",
              " 'currently': 1,\n",
              " 'deportees': 1,\n",
              " 'deporting': 1,\n",
              " 'destroying': 1,\n",
              " 'displaced': 1,\n",
              " 'documents': 1,\n",
              " 'eastern': 1,\n",
              " 'effort': 1,\n",
              " 'enforcement': 1,\n",
              " 'estimates': 1,\n",
              " 'familiar': 1,\n",
              " 'far': 1,\n",
              " 'filtration': 2,\n",
              " 'forced': 2,\n",
              " 'forces': 2,\n",
              " 'forcibly': 1,\n",
              " 'forget': 1,\n",
              " 'humanitarian': 1,\n",
              " 'hundreds': 1,\n",
              " 'including': 2,\n",
              " 'independently': 1,\n",
              " 'intelligence': 1,\n",
              " 'international': 1,\n",
              " 'invasion': 1,\n",
              " 'investigation': 1,\n",
              " 'kept': 1,\n",
              " 'late': 1,\n",
              " 'latest': 1,\n",
              " 'law': 2,\n",
              " 'means': 1,\n",
              " 'million': 2,\n",
              " 'morning': 1,\n",
              " 'news': 1,\n",
              " 'number': 1,\n",
              " 'numbers': 1,\n",
              " 'official': 1,\n",
              " 'people': 6,\n",
              " 'placed': 1,\n",
              " 'policy': 1,\n",
              " 'potential': 2,\n",
              " 'practice': 1,\n",
              " 'privately': 1,\n",
              " 'processed': 1,\n",
              " 'program': 1,\n",
              " 'pursuing': 1,\n",
              " 'region': 1,\n",
              " 'registered': 1,\n",
              " 'relatives': 1,\n",
              " 'remote': 1,\n",
              " 'removal': 1,\n",
              " 'reported': 1,\n",
              " 'republics': 1,\n",
              " 'resettlement': 1,\n",
              " 'residents': 1,\n",
              " 'rest': 1,\n",
              " 'return': 1,\n",
              " 'revealed': 1,\n",
              " 'said': 4,\n",
              " 'sent': 2,\n",
              " 'separatist': 1,\n",
              " 'series': 1,\n",
              " 'set': 1,\n",
              " 'similar': 1,\n",
              " 'soldiers': 1,\n",
              " 'source': 2,\n",
              " 'sources': 2,\n",
              " 'start': 1,\n",
              " 'state': 1,\n",
              " 'steal': 1,\n",
              " 'systemized': 1,\n",
              " 'taken': 1,\n",
              " 'taking': 1,\n",
              " 'temporary': 1,\n",
              " 'thousands': 1,\n",
              " 'time': 1,\n",
              " 'told': 1,\n",
              " 'violation': 1,\n",
              " 'war': 2,\n",
              " 'witnesses': 1,\n",
              " '“': 6,\n",
              " '”': 6}"
            ]
          },
          "metadata": {},
          "execution_count": 9
        }
      ]
    },
    {
      "cell_type": "code",
      "source": [
        "max_fred = max(word_fred.values())"
      ],
      "metadata": {
        "id": "22X_JgdnI8m_"
      },
      "execution_count": null,
      "outputs": []
    },
    {
      "cell_type": "code",
      "source": [
        "for word in word_fred.keys():\n",
        "  word_fred[word] = word_fred[word] / max_fred"
      ],
      "metadata": {
        "id": "J_OcZ2hZJoVH"
      },
      "execution_count": null,
      "outputs": []
    },
    {
      "cell_type": "code",
      "source": [
        "word_fred"
      ],
      "metadata": {
        "colab": {
          "base_uri": "https://localhost:8080/"
        },
        "id": "BpzrSUcWKBih",
        "outputId": "7b834710-346d-49ad-e87d-91a537005527"
      },
      "execution_count": null,
      "outputs": [
        {
          "output_type": "execute_result",
          "data": {
            "text/plain": [
              "{' ': 0.16666666666666666,\n",
              " '\"As': 0.16666666666666666,\n",
              " '\"Their': 0.16666666666666666,\n",
              " '1.6': 0.3333333333333333,\n",
              " '11,000': 0.16666666666666666,\n",
              " '200,000': 0.16666666666666666,\n",
              " '263,000': 0.16666666666666666,\n",
              " '33,000': 0.16666666666666666,\n",
              " '559': 0.16666666666666666,\n",
              " '6': 0.16666666666666666,\n",
              " 'According': 0.16666666666666666,\n",
              " 'Ambassador': 0.16666666666666666,\n",
              " 'April': 0.16666666666666666,\n",
              " 'Bezimenne': 0.16666666666666666,\n",
              " 'CNN': 0.16666666666666666,\n",
              " 'Carpenter': 0.16666666666666666,\n",
              " 'Cooperation': 0.16666666666666666,\n",
              " 'Donbas': 0.16666666666666666,\n",
              " 'Earlier': 0.16666666666666666,\n",
              " 'Europe': 0.16666666666666666,\n",
              " 'Kremlin': 0.16666666666666666,\n",
              " 'Mariupol': 0.16666666666666666,\n",
              " 'Michael': 0.16666666666666666,\n",
              " 'Organization': 0.16666666666666666,\n",
              " 'President': 0.16666666666666666,\n",
              " 'Russia': 0.16666666666666666,\n",
              " 'Russian': 0.16666666666666666,\n",
              " 'Security': 0.16666666666666666,\n",
              " 'TASS': 0.16666666666666666,\n",
              " 'Thursday': 0.16666666666666666,\n",
              " 'Ukraine': 0.16666666666666666,\n",
              " 'Ukrainian': 0.16666666666666666,\n",
              " 'Ukrainians': 0.16666666666666666,\n",
              " 'Volodymyr': 0.16666666666666666,\n",
              " 'Wednesday': 0.16666666666666666,\n",
              " 'Western': 0.16666666666666666,\n",
              " 'Zelensky': 0.16666666666666666,\n",
              " 'able': 0.16666666666666666,\n",
              " 'accommodation': 0.16666666666666666,\n",
              " 'accused': 0.3333333333333333,\n",
              " 'added': 0.16666666666666666,\n",
              " 'adding': 0.16666666666666666,\n",
              " 'agency': 0.16666666666666666,\n",
              " 'aim': 0.16666666666666666,\n",
              " 'alleged': 0.16666666666666666,\n",
              " 'allied': 0.16666666666666666,\n",
              " 'areas': 0.16666666666666666,\n",
              " 'assessments': 0.16666666666666666,\n",
              " 'border': 0.5,\n",
              " 'breakaway': 0.16666666666666666,\n",
              " 'bringing': 0.16666666666666666,\n",
              " 'broader': 0.16666666666666666,\n",
              " 'called': 0.16666666666666666,\n",
              " 'camps': 0.16666666666666666,\n",
              " 'center': 0.16666666666666666,\n",
              " 'centers': 0.3333333333333333,\n",
              " 'children': 0.5,\n",
              " 'citing': 0.16666666666666666,\n",
              " 'city': 0.3333333333333333,\n",
              " 'communication': 0.16666666666666666,\n",
              " 'confirm': 0.16666666666666666,\n",
              " 'confiscated': 0.16666666666666666,\n",
              " 'consistent': 0.16666666666666666,\n",
              " 'context': 0.16666666666666666,\n",
              " 'council': 0.16666666666666666,\n",
              " 'cover': 0.16666666666666666,\n",
              " 'crime': 0.16666666666666666,\n",
              " 'crimes': 0.16666666666666666,\n",
              " 'criminal': 0.16666666666666666,\n",
              " 'crossed': 0.3333333333333333,\n",
              " 'crossings': 0.16666666666666666,\n",
              " 'currently': 0.16666666666666666,\n",
              " 'deportees': 0.16666666666666666,\n",
              " 'deporting': 0.16666666666666666,\n",
              " 'destroying': 0.16666666666666666,\n",
              " 'displaced': 0.16666666666666666,\n",
              " 'documents': 0.16666666666666666,\n",
              " 'eastern': 0.16666666666666666,\n",
              " 'effort': 0.16666666666666666,\n",
              " 'enforcement': 0.16666666666666666,\n",
              " 'estimates': 0.16666666666666666,\n",
              " 'familiar': 0.16666666666666666,\n",
              " 'far': 0.16666666666666666,\n",
              " 'filtration': 0.3333333333333333,\n",
              " 'forced': 0.3333333333333333,\n",
              " 'forces': 0.3333333333333333,\n",
              " 'forcibly': 0.16666666666666666,\n",
              " 'forget': 0.16666666666666666,\n",
              " 'humanitarian': 0.16666666666666666,\n",
              " 'hundreds': 0.16666666666666666,\n",
              " 'including': 0.3333333333333333,\n",
              " 'independently': 0.16666666666666666,\n",
              " 'intelligence': 0.16666666666666666,\n",
              " 'international': 0.16666666666666666,\n",
              " 'invasion': 0.16666666666666666,\n",
              " 'investigation': 0.16666666666666666,\n",
              " 'kept': 0.16666666666666666,\n",
              " 'late': 0.16666666666666666,\n",
              " 'latest': 0.16666666666666666,\n",
              " 'law': 0.3333333333333333,\n",
              " 'means': 0.16666666666666666,\n",
              " 'million': 0.3333333333333333,\n",
              " 'morning': 0.16666666666666666,\n",
              " 'news': 0.16666666666666666,\n",
              " 'number': 0.16666666666666666,\n",
              " 'numbers': 0.16666666666666666,\n",
              " 'official': 0.16666666666666666,\n",
              " 'people': 1.0,\n",
              " 'placed': 0.16666666666666666,\n",
              " 'policy': 0.16666666666666666,\n",
              " 'potential': 0.3333333333333333,\n",
              " 'practice': 0.16666666666666666,\n",
              " 'privately': 0.16666666666666666,\n",
              " 'processed': 0.16666666666666666,\n",
              " 'program': 0.16666666666666666,\n",
              " 'pursuing': 0.16666666666666666,\n",
              " 'region': 0.16666666666666666,\n",
              " 'registered': 0.16666666666666666,\n",
              " 'relatives': 0.16666666666666666,\n",
              " 'remote': 0.16666666666666666,\n",
              " 'removal': 0.16666666666666666,\n",
              " 'reported': 0.16666666666666666,\n",
              " 'republics': 0.16666666666666666,\n",
              " 'resettlement': 0.16666666666666666,\n",
              " 'residents': 0.16666666666666666,\n",
              " 'rest': 0.16666666666666666,\n",
              " 'return': 0.16666666666666666,\n",
              " 'revealed': 0.16666666666666666,\n",
              " 'said': 0.6666666666666666,\n",
              " 'sent': 0.3333333333333333,\n",
              " 'separatist': 0.16666666666666666,\n",
              " 'series': 0.16666666666666666,\n",
              " 'set': 0.16666666666666666,\n",
              " 'similar': 0.16666666666666666,\n",
              " 'soldiers': 0.16666666666666666,\n",
              " 'source': 0.3333333333333333,\n",
              " 'sources': 0.3333333333333333,\n",
              " 'start': 0.16666666666666666,\n",
              " 'state': 0.16666666666666666,\n",
              " 'steal': 0.16666666666666666,\n",
              " 'systemized': 0.16666666666666666,\n",
              " 'taken': 0.16666666666666666,\n",
              " 'taking': 0.16666666666666666,\n",
              " 'temporary': 0.16666666666666666,\n",
              " 'thousands': 0.16666666666666666,\n",
              " 'time': 0.16666666666666666,\n",
              " 'told': 0.16666666666666666,\n",
              " 'violation': 0.16666666666666666,\n",
              " 'war': 0.3333333333333333,\n",
              " 'witnesses': 0.16666666666666666,\n",
              " '“': 1.0,\n",
              " '”': 1.0}"
            ]
          },
          "metadata": {},
          "execution_count": 12
        }
      ]
    },
    {
      "cell_type": "markdown",
      "source": [
        "# Sentence Tokenization "
      ],
      "metadata": {
        "id": "_rbkfwGjKddl"
      }
    },
    {
      "cell_type": "code",
      "source": [
        "sent_tokens = [sent for sent in doc.sents]\n",
        "print(sent_tokens)"
      ],
      "metadata": {
        "colab": {
          "base_uri": "https://localhost:8080/"
        },
        "id": "QlpDiBakKgYY",
        "outputId": "d8bae34c-97fa-4939-89d5-eb4b86f3b9a2"
      },
      "execution_count": null,
      "outputs": [
        {
          "output_type": "stream",
          "name": "stdout",
          "text": [
            "[More than 1.6 million people from Ukraine and breakaway republics in the Donbas region have crossed into Russia since the start of the Kremlin’s invasion, Russian state news agency TASS reported Thursday, citing a law enforcement source., \"As, of Wednesday morning, more than 1.6 million people, including almost 263,000 children, crossed the border,\" said the source., CNN cannot independently confirm the number of border crossings, but the numbers are similar to official Ukrainian estimates., Earlier Thursday Ukrainian President Volodymyr Zelensky accused Russia of pursuing a “consistent criminal policy of deporting [Ukrainian] people” into mostly remote areas of Russia, adding that more than 200,000 children had been taken to Russia so far., The aim is “to steal people” and “make deportees forget about Ukraine and not be able to return,\" said Zelensky., According to TASS, 33,000 people, including 11,000 children, are currently being kept in 559 temporary accommodation centers across Russia., The rest “have been placed with relatives and privately,\" it added., Four sources familiar with the latest Western intelligence assessments told CNN in late May that hundreds of thousands of Ukrainians have now been processed through a series of “filtration camps” in eastern Ukraine., They were then sent across the border to Russia as part of a systemized program of forced removal and resettlement, the sources said., Some context: In April a CNN investigation revealed that Russian forces and allied separatist soldiers were taking residents of the city of Mariupol to a so-called “filtration center” set up in Bezimenne, where they were registered before being sent on to Russia, many against their will., At the time, Mariupol's city council accused Russian forces of bringing Ukrainians to these centers as part of a broader effort to cover up potential war crimes by \"destroying\" potential witnesses.  , Zelensky has also alleged that Ukrainians have been forced to move to Russia., \"Their, documents and means of communication are confiscated,” he said on May 6., According to Michael Carpenter, US Ambassador to the Organization for Security and Cooperation in Europe, the practice \"would be in violation of international humanitarian law, and a war crime if people were forcibly being displaced from Ukraine to Russia.”\n",
            "]\n"
          ]
        }
      ]
    },
    {
      "cell_type": "code",
      "source": [
        "sent_score = {}\n"
      ],
      "metadata": {
        "id": "mqHl7bimK2Bn"
      },
      "execution_count": null,
      "outputs": []
    },
    {
      "cell_type": "code",
      "source": [
        "for sent in sent_tokens:\n",
        "  for word in sent: \n",
        "    if word.text.lower() in word_fred.keys(): \n",
        "      if sent not in sent_score.keys():\n",
        "        sent_score[sent] = word_fred[word.text.lower()]\n",
        "      else:\n",
        "        sent_score[sent] += word_fred[word.text.lower()]"
      ],
      "metadata": {
        "id": "BPcXNYyCK72e"
      },
      "execution_count": null,
      "outputs": []
    },
    {
      "cell_type": "code",
      "source": [
        "sent_score"
      ],
      "metadata": {
        "colab": {
          "base_uri": "https://localhost:8080/"
        },
        "id": "PyFmR966LyAe",
        "outputId": "607a0731-cb43-428f-a0fe-6007b23497c7"
      },
      "execution_count": null,
      "outputs": [
        {
          "output_type": "execute_result",
          "data": {
            "text/plain": [
              "{More than 1.6 million people from Ukraine and breakaway republics in the Donbas region have crossed into Russia since the start of the Kremlin’s invasion, Russian state news agency TASS reported Thursday, citing a law enforcement source.: 4.499999999999999,\n",
              " of Wednesday morning, more than 1.6 million people, including almost 263,000 children, crossed the border,\" said the source.: 4.666666666666666,\n",
              " CNN cannot independently confirm the number of border crossings, but the numbers are similar to official Ukrainian estimates.: 1.8333333333333337,\n",
              " Earlier Thursday Ukrainian President Volodymyr Zelensky accused Russia of pursuing a “consistent criminal policy of deporting [Ukrainian] people” into mostly remote areas of Russia, adding that more than 200,000 children had been taken to Russia so far.: 5.666666666666668,\n",
              " The aim is “to steal people” and “make deportees forget about Ukraine and not be able to return,\" said Zelensky.: 5.666666666666669,\n",
              " According to TASS, 33,000 people, including 11,000 children, are currently being kept in 559 temporary accommodation centers across Russia.: 3.333333333333333,\n",
              " The rest “have been placed with relatives and privately,\" it added.: 1.8333333333333337,\n",
              " Four sources familiar with the latest Western intelligence assessments told CNN in late May that hundreds of thousands of Ukrainians have now been processed through a series of “filtration camps” in eastern Ukraine.: 4.666666666666667,\n",
              " They were then sent across the border to Russia as part of a systemized program of forced removal and resettlement, the sources said.: 2.833333333333333,\n",
              " Some context: In April a CNN investigation revealed that Russian forces and allied separatist soldiers were taking residents of the city of Mariupol to a so-called “filtration center” set up in Bezimenne, where they were registered before being sent on to Russia, many against their will.: 5.333333333333333,\n",
              " At the time, Mariupol's city council accused Russian forces of bringing Ukrainians to these centers as part of a broader effort to cover up potential war crimes by \"destroying\" potential witnesses.  : 3.9999999999999996,\n",
              " Zelensky has also alleged that Ukrainians have been forced to move to Russia.: 0.5,\n",
              " documents and means of communication are confiscated,” he said on May 6.: 2.4999999999999996,\n",
              " According to Michael Carpenter, US Ambassador to the Organization for Security and Cooperation in Europe, the practice \"would be in violation of international humanitarian law, and a war crime if people were forcibly being displaced from Ukraine to Russia.”: 3.833333333333333}"
            ]
          },
          "metadata": {},
          "execution_count": 16
        }
      ]
    },
    {
      "cell_type": "markdown",
      "source": [
        "# Select 30% sentences with maximum score "
      ],
      "metadata": {
        "id": "Jow8TSY1MmPk"
      }
    },
    {
      "cell_type": "code",
      "source": [
        "from heapq import nlargest"
      ],
      "metadata": {
        "id": "PfnmlBIVMvwK"
      },
      "execution_count": null,
      "outputs": []
    },
    {
      "cell_type": "code",
      "source": [
        "print(len(sent_score) * 0.3)"
      ],
      "metadata": {
        "colab": {
          "base_uri": "https://localhost:8080/"
        },
        "id": "cY6_dZ7PM2s7",
        "outputId": "334fe3ae-4e31-4767-8c72-3e70378f7b3b"
      },
      "execution_count": null,
      "outputs": [
        {
          "output_type": "stream",
          "name": "stdout",
          "text": [
            "4.2\n"
          ]
        }
      ]
    },
    {
      "cell_type": "markdown",
      "source": [
        "# Get summary"
      ],
      "metadata": {
        "id": "7O3mZt3gNKk8"
      }
    },
    {
      "cell_type": "code",
      "source": [
        "summary = nlargest(n = 3, iterable = sent_score, key = sent_score.get)"
      ],
      "metadata": {
        "id": "WiePd1oKNMwE"
      },
      "execution_count": null,
      "outputs": []
    },
    {
      "cell_type": "code",
      "source": [
        "summary"
      ],
      "metadata": {
        "colab": {
          "base_uri": "https://localhost:8080/"
        },
        "id": "JnwoOdO_a_Uj",
        "outputId": "aa55cb13-8521-4352-8bab-3cd69fb72455"
      },
      "execution_count": null,
      "outputs": [
        {
          "output_type": "execute_result",
          "data": {
            "text/plain": [
              "[The aim is “to steal people” and “make deportees forget about Ukraine and not be able to return,\" said Zelensky.,\n",
              " Earlier Thursday Ukrainian President Volodymyr Zelensky accused Russia of pursuing a “consistent criminal policy of deporting [Ukrainian] people” into mostly remote areas of Russia, adding that more than 200,000 children had been taken to Russia so far.,\n",
              " Some context: In April a CNN investigation revealed that Russian forces and allied separatist soldiers were taking residents of the city of Mariupol to a so-called “filtration center” set up in Bezimenne, where they were registered before being sent on to Russia, many against their will.]"
            ]
          },
          "metadata": {},
          "execution_count": 25
        }
      ]
    },
    {
      "cell_type": "code",
      "source": [
        "final_summary = [word.text for word in summary]"
      ],
      "metadata": {
        "id": "6bRdg2wSNugz"
      },
      "execution_count": null,
      "outputs": []
    },
    {
      "cell_type": "code",
      "source": [
        "final_summary "
      ],
      "metadata": {
        "colab": {
          "base_uri": "https://localhost:8080/"
        },
        "id": "e5XYOV9gTQwl",
        "outputId": "8d497542-dee0-46ae-f92f-8afd7b3a9a21"
      },
      "execution_count": null,
      "outputs": [
        {
          "output_type": "execute_result",
          "data": {
            "text/plain": [
              "['The aim is “to steal people” and “make deportees forget about Ukraine and not be able to return,\" said Zelensky.',\n",
              " 'Earlier Thursday Ukrainian President Volodymyr Zelensky accused Russia of pursuing a “consistent criminal policy of deporting [Ukrainian] people” into mostly remote areas of Russia, adding that more than 200,000 children had been taken to Russia so far.',\n",
              " 'Some context: In April a CNN investigation revealed that Russian forces and allied separatist soldiers were taking residents of the city of Mariupol to a so-called “filtration center” set up in Bezimenne, where they were registered before being sent on to Russia, many against their will.']"
            ]
          },
          "metadata": {},
          "execution_count": 28
        }
      ]
    },
    {
      "cell_type": "code",
      "source": [
        "summary = \" \".join(final_summary)"
      ],
      "metadata": {
        "id": "Wx1_pb7sbcM8"
      },
      "execution_count": null,
      "outputs": []
    },
    {
      "cell_type": "code",
      "source": [
        "summary"
      ],
      "metadata": {
        "id": "RZWeTGMKbgk8",
        "outputId": "3b91bd53-a51d-4126-d6a9-33f1e5313a90",
        "colab": {
          "base_uri": "https://localhost:8080/",
          "height": 70
        }
      },
      "execution_count": null,
      "outputs": [
        {
          "output_type": "execute_result",
          "data": {
            "text/plain": [
              "'The aim is “to steal people” and “make deportees forget about Ukraine and not be able to return,\" said Zelensky. Earlier Thursday Ukrainian President Volodymyr Zelensky accused Russia of pursuing a “consistent criminal policy of deporting [Ukrainian] people” into mostly remote areas of Russia, adding that more than 200,000 children had been taken to Russia so far. Some context: In April a CNN investigation revealed that Russian forces and allied separatist soldiers were taking residents of the city of Mariupol to a so-called “filtration center” set up in Bezimenne, where they were registered before being sent on to Russia, many against their will.'"
            ],
            "application/vnd.google.colaboratory.intrinsic+json": {
              "type": "string"
            }
          },
          "metadata": {},
          "execution_count": 30
        }
      ]
    }
  ]
}